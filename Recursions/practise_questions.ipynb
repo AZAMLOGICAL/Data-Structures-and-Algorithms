{
 "cells": [
  {
   "cell_type": "code",
   "execution_count": 1,
   "id": "d7d2ec8d-80f9-4a6c-88aa-10cb1e0350b3",
   "metadata": {},
   "outputs": [],
   "source": [
    "# How to find the greatest common divisor of two numbers using recursion?"
   ]
  },
  {
   "cell_type": "markdown",
   "id": "d6c086c7-c2ac-465c-af96-ccb9d1717183",
   "metadata": {},
   "source": [
    "The process using which this problem is solved is using euclidean algorithm. Search it on google to better understand this"
   ]
  },
  {
   "cell_type": "code",
   "execution_count": 2,
   "id": "eb9c2e3c-e771-4a3e-b4e1-0f30d81ce17a",
   "metadata": {},
   "outputs": [],
   "source": [
    "# Without recursion\n",
    "def gcd(a,b):\n",
    "    while b:\n",
    "        a ,b = b, a % b\n",
    "    return a"
   ]
  },
  {
   "cell_type": "code",
   "execution_count": 17,
   "id": "c9fe14d4-bfb6-40c0-8f84-f856ecd9f9c3",
   "metadata": {},
   "outputs": [],
   "source": [
    "def gcd_recursion(a,b):\n",
    "    assert int(a) == a and int(b) == b, 'The numbers must be integers'\n",
    "    if b == 0:\n",
    "        return a\n",
    "    else:\n",
    "        return gcd_recursion(b, a % b)\n"
   ]
  },
  {
   "cell_type": "code",
   "execution_count": 18,
   "id": "b944c5e3-b5f2-4bdc-a859-143bad2aeec2",
   "metadata": {},
   "outputs": [
    {
     "name": "stdout",
     "output_type": "stream",
     "text": [
      "-4\n"
     ]
    }
   ],
   "source": [
    "print(gcd_recursion(-40,-12))"
   ]
  },
  {
   "cell_type": "code",
   "execution_count": 19,
   "id": "e582e41a-9739-4f35-8a54-9f3f9aed9082",
   "metadata": {},
   "outputs": [],
   "source": [
    "# How to convert the decimal number to binary number using recursion ?"
   ]
  },
  {
   "cell_type": "code",
   "execution_count": 30,
   "id": "539a7f42-3f2f-4d01-958f-ccbfef8e6912",
   "metadata": {},
   "outputs": [],
   "source": [
    "def decimal2binary(number):\n",
    "    assert int(number) == number, 'The integer must be integer only'\n",
    "    quotient = number // 2\n",
    "    remainder = number % 2\n",
    "    if quotient == 0:\n",
    "        return str(remainder)\n",
    "    else:\n",
    "        return decimal2binary(quotient) + str(remainder)"
   ]
  },
  {
   "cell_type": "code",
   "execution_count": 31,
   "id": "11cebd80-de2e-4c0f-ab70-0f21d581cd8b",
   "metadata": {},
   "outputs": [
    {
     "data": {
      "text/plain": [
       "'1000'"
      ]
     },
     "execution_count": 31,
     "metadata": {},
     "output_type": "execute_result"
    }
   ],
   "source": [
    "decimal2binary(8)"
   ]
  },
  {
   "cell_type": "code",
   "execution_count": null,
   "id": "139e67b1-badb-4214-83e3-ddb3d0193a6f",
   "metadata": {},
   "outputs": [],
   "source": []
  }
 ],
 "metadata": {
  "kernelspec": {
   "display_name": "Python 3 (ipykernel)",
   "language": "python",
   "name": "python3"
  },
  "language_info": {
   "codemirror_mode": {
    "name": "ipython",
    "version": 3
   },
   "file_extension": ".py",
   "mimetype": "text/x-python",
   "name": "python",
   "nbconvert_exporter": "python",
   "pygments_lexer": "ipython3",
   "version": "3.11.7"
  }
 },
 "nbformat": 4,
 "nbformat_minor": 5
}
