{
 "cells": [
  {
   "cell_type": "code",
   "execution_count": 31,
   "id": "382abb62-54a0-4dff-adf2-cf735620d926",
   "metadata": {},
   "outputs": [],
   "source": [
    "class TreeNode:\n",
    "    def __init__(self, data, children = []):\n",
    "        self.data = data\n",
    "        self.children = children\n",
    "    def __str__(self, level=0):\n",
    "        ret = \" \" * level + str(self.data) + \"\\n\"\n",
    "        for child in self.children:\n",
    "            ret += child.__str__(level+1)\n",
    "        return ret\n",
    "    def addChild(self, TreeNode):\n",
    "        self.children.append(TreeNode)"
   ]
  },
  {
   "cell_type": "code",
   "execution_count": 32,
   "id": "04514760-4c1d-4a4a-af88-231f344068f7",
   "metadata": {},
   "outputs": [
    {
     "name": "stdout",
     "output_type": "stream",
     "text": [
      "5\n",
      " 2\n",
      " 3\n",
      "\n"
     ]
    }
   ],
   "source": [
    "# Create child nodes as TreeNode instances\n",
    "child1 = TreeNode(2)\n",
    "child2 = TreeNode(3)\n",
    "\n",
    "# Create the root node with child nodes\n",
    "root = TreeNode(5, children=[child1, child2])\n",
    "\n",
    "# Print the tree\n",
    "print(root)"
   ]
  },
  {
   "cell_type": "code",
   "execution_count": 33,
   "id": "be993e2d-a2d7-4c8a-bb74-6a22bb3f48d9",
   "metadata": {},
   "outputs": [],
   "source": [
    "child3 = TreeNode(5)"
   ]
  },
  {
   "cell_type": "code",
   "execution_count": 34,
   "id": "7abf8b38-b2ba-41c8-9021-b06d2ea35463",
   "metadata": {},
   "outputs": [],
   "source": [
    "root.addChild(child3)"
   ]
  },
  {
   "cell_type": "code",
   "execution_count": 35,
   "id": "6bb4d411-ee4c-4d3a-a9b5-f49e55c956a8",
   "metadata": {},
   "outputs": [
    {
     "name": "stdout",
     "output_type": "stream",
     "text": [
      "5\n",
      " 2\n",
      " 3\n",
      " 5\n",
      "\n"
     ]
    }
   ],
   "source": [
    "print(root)"
   ]
  },
  {
   "cell_type": "code",
   "execution_count": null,
   "id": "8c6098f2-6ab9-411f-a356-eafb9a2f4b84",
   "metadata": {},
   "outputs": [],
   "source": []
  }
 ],
 "metadata": {
  "kernelspec": {
   "display_name": "Python 3 (ipykernel)",
   "language": "python",
   "name": "python3"
  },
  "language_info": {
   "codemirror_mode": {
    "name": "ipython",
    "version": 3
   },
   "file_extension": ".py",
   "mimetype": "text/x-python",
   "name": "python",
   "nbconvert_exporter": "python",
   "pygments_lexer": "ipython3",
   "version": "3.11.7"
  }
 },
 "nbformat": 4,
 "nbformat_minor": 5
}
