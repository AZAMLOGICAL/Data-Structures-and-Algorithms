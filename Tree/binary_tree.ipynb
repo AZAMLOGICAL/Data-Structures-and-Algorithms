{
 "cells": [
  {
   "cell_type": "code",
   "execution_count": 1,
   "id": "18e6be30-2f0b-4f46-9f21-c08583ee4764",
   "metadata": {},
   "outputs": [],
   "source": [
    "class TreeNode:\n",
    "    def __init__(self, data):\n",
    "        self.data = data\n",
    "        self.leftChild = None\n",
    "        self.rightChild = None"
   ]
  },
  {
   "cell_type": "code",
   "execution_count": 2,
   "id": "f13d8f6d-77ee-4c46-8425-f58dfd513d0c",
   "metadata": {},
   "outputs": [],
   "source": [
    "bt = TreeNode(\"Drinks\")"
   ]
  },
  {
   "cell_type": "code",
   "execution_count": 3,
   "id": "8bca2a21-45c2-4a95-96e6-61464401d7aa",
   "metadata": {},
   "outputs": [],
   "source": [
    "leftChild = TreeNode(\"Hot\")"
   ]
  },
  {
   "cell_type": "code",
   "execution_count": 4,
   "id": "d70bcc7a-44a0-44f2-a39b-02e02e238da1",
   "metadata": {},
   "outputs": [],
   "source": [
    "rightChild = TreeNode(\"Cold\")"
   ]
  },
  {
   "cell_type": "code",
   "execution_count": 6,
   "id": "e8ee2885-b10c-488f-aff3-33d1c4fe2aa0",
   "metadata": {},
   "outputs": [],
   "source": [
    "bt.leftChild = leftChild\n",
    "bt.rightChild = rightChild"
   ]
  },
  {
   "cell_type": "code",
   "execution_count": 10,
   "id": "177212c3-f48c-4143-b30a-399f435a7d1a",
   "metadata": {},
   "outputs": [],
   "source": [
    "def preOrderTraversal(rootNode):\n",
    "    if not rootNode:\n",
    "        return None\n",
    "    print(rootNode.data)\n",
    "    preOrderTraversal(rootNode.leftChild)\n",
    "    preOrderTraversal(rootNode.rightChild)"
   ]
  },
  {
   "cell_type": "code",
   "execution_count": 12,
   "id": "2de75505-20e2-49d0-9965-9076134eec0d",
   "metadata": {},
   "outputs": [
    {
     "name": "stdout",
     "output_type": "stream",
     "text": [
      "Drinks\n",
      "Hot\n",
      "Cold\n"
     ]
    }
   ],
   "source": [
    "preOrderTraversal(bt)"
   ]
  },
  {
   "cell_type": "code",
   "execution_count": null,
   "id": "8fa15b54-e709-4270-97e9-653c38c8a6c2",
   "metadata": {},
   "outputs": [],
   "source": []
  }
 ],
 "metadata": {
  "kernelspec": {
   "display_name": "Python 3 (ipykernel)",
   "language": "python",
   "name": "python3"
  },
  "language_info": {
   "codemirror_mode": {
    "name": "ipython",
    "version": 3
   },
   "file_extension": ".py",
   "mimetype": "text/x-python",
   "name": "python",
   "nbconvert_exporter": "python",
   "pygments_lexer": "ipython3",
   "version": "3.11.7"
  }
 },
 "nbformat": 4,
 "nbformat_minor": 5
}
