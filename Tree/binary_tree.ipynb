{
 "cells": [
  {
   "cell_type": "code",
   "execution_count": 49,
   "id": "18e6be30-2f0b-4f46-9f21-c08583ee4764",
   "metadata": {},
   "outputs": [],
   "source": [
    "class TreeNode:\n",
    "    def __init__(self, data):\n",
    "        self.data = data\n",
    "        self.leftChild = None\n",
    "        self.rightChild = None"
   ]
  },
  {
   "cell_type": "code",
   "execution_count": 50,
   "id": "f13d8f6d-77ee-4c46-8425-f58dfd513d0c",
   "metadata": {},
   "outputs": [],
   "source": [
    "bt = TreeNode(\"Drinks\")"
   ]
  },
  {
   "cell_type": "code",
   "execution_count": 51,
   "id": "8bca2a21-45c2-4a95-96e6-61464401d7aa",
   "metadata": {},
   "outputs": [],
   "source": [
    "leftChild = TreeNode(\"Hot\")"
   ]
  },
  {
   "cell_type": "code",
   "execution_count": 52,
   "id": "d70bcc7a-44a0-44f2-a39b-02e02e238da1",
   "metadata": {},
   "outputs": [],
   "source": [
    "rightChild = TreeNode(\"Cold\")"
   ]
  },
  {
   "cell_type": "code",
   "execution_count": 53,
   "id": "e8ee2885-b10c-488f-aff3-33d1c4fe2aa0",
   "metadata": {},
   "outputs": [],
   "source": [
    "bt.leftChild = leftChild\n",
    "bt.rightChild = rightChild"
   ]
  },
  {
   "cell_type": "code",
   "execution_count": 54,
   "id": "209e73bd-4858-4089-9296-5edda90c9a80",
   "metadata": {},
   "outputs": [],
   "source": [
    "tea = TreeNode(\"Tea\")"
   ]
  },
  {
   "cell_type": "code",
   "execution_count": 55,
   "id": "b0796152-5bc0-4e09-b523-558f705ea656",
   "metadata": {},
   "outputs": [],
   "source": [
    "coffee = TreeNode(\"Coffee\")"
   ]
  },
  {
   "cell_type": "code",
   "execution_count": 56,
   "id": "dcb72369-8775-4c15-8ee8-0664e22b3373",
   "metadata": {},
   "outputs": [],
   "source": [
    "leftChild.leftChild = tea\n",
    "leftChild.rightChild = coffee"
   ]
  },
  {
   "cell_type": "code",
   "execution_count": 57,
   "id": "177212c3-f48c-4143-b30a-399f435a7d1a",
   "metadata": {},
   "outputs": [],
   "source": [
    "def preOrderTraversal(rootNode):\n",
    "    if not rootNode:\n",
    "        return None\n",
    "    print(rootNode.data)\n",
    "    preOrderTraversal(rootNode.leftChild)\n",
    "    preOrderTraversal(rootNode.rightChild)"
   ]
  },
  {
   "cell_type": "code",
   "execution_count": 58,
   "id": "901e91eb-dede-4887-89fc-3cfc4787db55",
   "metadata": {},
   "outputs": [],
   "source": [
    "def inOrderTraversal(rootNode):\n",
    "    if not rootNode:\n",
    "        return\n",
    "    inOrderTraversal(rootNode.leftChild)\n",
    "    print(rootNode.data)\n",
    "    inOrderTraversal(rootNode.rightChild)"
   ]
  },
  {
   "cell_type": "code",
   "execution_count": 59,
   "id": "72840e64-2cf2-4658-917b-684a8b97ed83",
   "metadata": {},
   "outputs": [],
   "source": [
    "def postOrderTraversal(rootNode):\n",
    "    if not rootNode:\n",
    "        return\n",
    "    postOrderTraversal(rootNode.leftChild)\n",
    "    postOrderTraversal(rootNode.rightChild)\n",
    "    print(rootNode.data)\n",
    "        "
   ]
  },
  {
   "cell_type": "code",
   "execution_count": 60,
   "id": "2f118059-8f17-45c5-a0ea-3dd07e51e649",
   "metadata": {},
   "outputs": [],
   "source": [
    "# Queue using Linked List\n",
    "class Node:\n",
    "    def __init__(self, value=None):\n",
    "        self.value = value\n",
    "        self.next = None\n",
    "    \n",
    "    def __str__(self):\n",
    "        return str(self.value)\n",
    "\n",
    "class LinkedList:\n",
    "    def __init__(self):\n",
    "        self.head = None\n",
    "        self.tail = None\n",
    "    \n",
    "    def __iter__(self):\n",
    "        curNode = self.head\n",
    "        while curNode:\n",
    "            yield curNode\n",
    "            curNode = curNode.next\n",
    "\n",
    "class Queue:\n",
    "    def __init__(self):\n",
    "        self.linkedList = LinkedList()\n",
    "    \n",
    "    def __str__(self):\n",
    "        values = [str(x) for x in self.linkedList]\n",
    "        return ' '.join(values)\n",
    "    \n",
    "    def enqueue(self, value):\n",
    "        newNode = Node(value)\n",
    "        if self.linkedList.head == None:\n",
    "            self.linkedList.head = newNode\n",
    "            self.linkedList.tail = newNode\n",
    "        else:\n",
    "            self.linkedList.tail.next = newNode\n",
    "            self.linkedList.tail = newNode\n",
    "    \n",
    "    def isEmpty(self):\n",
    "        if self.linkedList.head == None:\n",
    "            return True\n",
    "        else:\n",
    "            return False\n",
    "    \n",
    "    def dequeue(self):\n",
    "        if self.isEmpty():\n",
    "            return \"There is not any node in the Queue\"\n",
    "        else:\n",
    "            tempNode = self.linkedList.head\n",
    "            if self.linkedList.head == self.linkedList.tail:\n",
    "                self.linkedList.head = None\n",
    "                self.linkedList.tail = None\n",
    "            else:\n",
    "                self.linkedList.head = self.linkedList.head.next\n",
    "            return tempNode\n",
    "    \n",
    "    def peek(self):\n",
    "        if self.isEmpty():\n",
    "            return \"There is not any node in the Queue\"\n",
    "        else:\n",
    "            return self.linkedList.head\n",
    "    \n",
    "    def delete(self):\n",
    "        self.linkedList.head = None\n",
    "        self.linkedList.tail = None"
   ]
  },
  {
   "cell_type": "code",
   "execution_count": 61,
   "id": "01450411-55f9-4a25-8219-cf8ad43445fa",
   "metadata": {},
   "outputs": [],
   "source": [
    "# Post Order Traversal is implemented is Queue Data Structure\n",
    "def levelOrderTraversal(rootNode):\n",
    "    if not rootNode:\n",
    "        return\n",
    "    # Initialize queue\n",
    "    queue = Queue()\n",
    "    queue.enqueue(rootNode)\n",
    "    while not(queue.isEmpty()):\n",
    "        root = queue.dequeue()\n",
    "        print(root.value.data)\n",
    "        if root.value.leftChild is not None:\n",
    "            queue.enqueue(root.value.leftChild)\n",
    "        if root.value.rightChild is not None:\n",
    "            queue.enqueue(root.value.rightChild)"
   ]
  },
  {
   "cell_type": "code",
   "execution_count": 62,
   "id": "2de75505-20e2-49d0-9965-9076134eec0d",
   "metadata": {},
   "outputs": [
    {
     "name": "stdout",
     "output_type": "stream",
     "text": [
      "Drinks\n",
      "Hot\n",
      "Tea\n",
      "Coffee\n",
      "Cold\n"
     ]
    }
   ],
   "source": [
    "preOrderTraversal(bt)"
   ]
  },
  {
   "cell_type": "code",
   "execution_count": 63,
   "id": "8fa15b54-e709-4270-97e9-653c38c8a6c2",
   "metadata": {},
   "outputs": [
    {
     "name": "stdout",
     "output_type": "stream",
     "text": [
      "Tea\n",
      "Hot\n",
      "Coffee\n",
      "Drinks\n",
      "Cold\n"
     ]
    }
   ],
   "source": [
    "inOrderTraversal(bt)"
   ]
  },
  {
   "cell_type": "code",
   "execution_count": 64,
   "id": "aec5da7f-f2ef-40a4-9e3b-015ec7d4c1b7",
   "metadata": {},
   "outputs": [
    {
     "name": "stdout",
     "output_type": "stream",
     "text": [
      "Tea\n",
      "Coffee\n",
      "Hot\n",
      "Cold\n",
      "Drinks\n"
     ]
    }
   ],
   "source": [
    "postOrderTraversal(bt)"
   ]
  },
  {
   "cell_type": "code",
   "execution_count": 65,
   "id": "e37993b8-990e-4c9e-a4a3-4e9c6b139e2a",
   "metadata": {},
   "outputs": [
    {
     "name": "stdout",
     "output_type": "stream",
     "text": [
      "Drinks\n",
      "Hot\n",
      "Cold\n",
      "Tea\n",
      "Coffee\n"
     ]
    }
   ],
   "source": [
    "levelOrderTraversal(bt)"
   ]
  }
 ],
 "metadata": {
  "kernelspec": {
   "display_name": "Python 3 (ipykernel)",
   "language": "python",
   "name": "python3"
  },
  "language_info": {
   "codemirror_mode": {
    "name": "ipython",
    "version": 3
   },
   "file_extension": ".py",
   "mimetype": "text/x-python",
   "name": "python",
   "nbconvert_exporter": "python",
   "pygments_lexer": "ipython3",
   "version": "3.11.7"
  }
 },
 "nbformat": 4,
 "nbformat_minor": 5
}
