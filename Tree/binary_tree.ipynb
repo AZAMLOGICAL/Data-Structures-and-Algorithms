{
 "cells": [
  {
   "cell_type": "code",
   "execution_count": 276,
   "id": "18e6be30-2f0b-4f46-9f21-c08583ee4764",
   "metadata": {},
   "outputs": [],
   "source": [
    "class TreeNode:\n",
    "    def __init__(self, data):\n",
    "        self.data = data\n",
    "        self.leftChild = None\n",
    "        self.rightChild = None\n",
    "    def __str__(self):\n",
    "        return self.data"
   ]
  },
  {
   "cell_type": "code",
   "execution_count": 277,
   "id": "f13d8f6d-77ee-4c46-8425-f58dfd513d0c",
   "metadata": {},
   "outputs": [],
   "source": [
    "bt = TreeNode(\"Drinks\")"
   ]
  },
  {
   "cell_type": "code",
   "execution_count": 278,
   "id": "8bca2a21-45c2-4a95-96e6-61464401d7aa",
   "metadata": {},
   "outputs": [],
   "source": [
    "leftChild = TreeNode(\"Hot\")"
   ]
  },
  {
   "cell_type": "code",
   "execution_count": 279,
   "id": "d70bcc7a-44a0-44f2-a39b-02e02e238da1",
   "metadata": {},
   "outputs": [],
   "source": [
    "rightChild = TreeNode(\"Cold\")"
   ]
  },
  {
   "cell_type": "code",
   "execution_count": 280,
   "id": "e8ee2885-b10c-488f-aff3-33d1c4fe2aa0",
   "metadata": {},
   "outputs": [],
   "source": [
    "bt.leftChild = leftChild\n",
    "bt.rightChild = rightChild"
   ]
  },
  {
   "cell_type": "code",
   "execution_count": 281,
   "id": "209e73bd-4858-4089-9296-5edda90c9a80",
   "metadata": {},
   "outputs": [],
   "source": [
    "tea = TreeNode(\"Tea\")"
   ]
  },
  {
   "cell_type": "code",
   "execution_count": 282,
   "id": "b0796152-5bc0-4e09-b523-558f705ea656",
   "metadata": {},
   "outputs": [],
   "source": [
    "coffee = TreeNode(\"Coffee\")"
   ]
  },
  {
   "cell_type": "code",
   "execution_count": 283,
   "id": "dcb72369-8775-4c15-8ee8-0664e22b3373",
   "metadata": {},
   "outputs": [],
   "source": [
    "leftChild.leftChild = tea\n",
    "leftChild.rightChild = coffee"
   ]
  },
  {
   "cell_type": "code",
   "execution_count": 284,
   "id": "177212c3-f48c-4143-b30a-399f435a7d1a",
   "metadata": {},
   "outputs": [],
   "source": [
    "def preOrderTraversal(rootNode):\n",
    "    if not rootNode:\n",
    "        return None\n",
    "    print(rootNode.data)\n",
    "    preOrderTraversal(rootNode.leftChild)\n",
    "    preOrderTraversal(rootNode.rightChild)"
   ]
  },
  {
   "cell_type": "code",
   "execution_count": 285,
   "id": "901e91eb-dede-4887-89fc-3cfc4787db55",
   "metadata": {},
   "outputs": [],
   "source": [
    "def inOrderTraversal(rootNode):\n",
    "    if not rootNode:\n",
    "        return\n",
    "    inOrderTraversal(rootNode.leftChild)\n",
    "    print(rootNode.data)\n",
    "    inOrderTraversal(rootNode.rightChild)"
   ]
  },
  {
   "cell_type": "code",
   "execution_count": 286,
   "id": "72840e64-2cf2-4658-917b-684a8b97ed83",
   "metadata": {},
   "outputs": [],
   "source": [
    "def postOrderTraversal(rootNode):\n",
    "    if not rootNode:\n",
    "        return\n",
    "    postOrderTraversal(rootNode.leftChild)\n",
    "    postOrderTraversal(rootNode.rightChild)\n",
    "    print(rootNode.data)\n",
    "        "
   ]
  },
  {
   "cell_type": "code",
   "execution_count": 287,
   "id": "2f118059-8f17-45c5-a0ea-3dd07e51e649",
   "metadata": {},
   "outputs": [],
   "source": [
    "# Queue using Linked List\n",
    "class Node:\n",
    "    def __init__(self, value=None):\n",
    "        self.value = value\n",
    "        self.next = None\n",
    "    \n",
    "    def __str__(self):\n",
    "        return str(self.value)\n",
    "\n",
    "class LinkedList:\n",
    "    def __init__(self):\n",
    "        self.head = None\n",
    "        self.tail = None\n",
    "    \n",
    "    def __iter__(self):\n",
    "        curNode = self.head\n",
    "        while curNode:\n",
    "            yield curNode\n",
    "            curNode = curNode.next\n",
    "\n",
    "class Queue:\n",
    "    def __init__(self):\n",
    "        self.linkedList = LinkedList()\n",
    "    \n",
    "    def __str__(self):\n",
    "        values = [str(x) for x in self.linkedList]\n",
    "        return ' '.join(values)\n",
    "    \n",
    "    def enqueue(self, value):\n",
    "        newNode = Node(value)\n",
    "        if self.linkedList.head == None:\n",
    "            self.linkedList.head = newNode\n",
    "            self.linkedList.tail = newNode\n",
    "        else:\n",
    "            self.linkedList.tail.next = newNode\n",
    "            self.linkedList.tail = newNode\n",
    "    \n",
    "    def isEmpty(self):\n",
    "        if self.linkedList.head == None:\n",
    "            return True\n",
    "        else:\n",
    "            return False\n",
    "    \n",
    "    def dequeue(self):\n",
    "        if self.isEmpty():\n",
    "            return \"There is not any node in the Queue\"\n",
    "        else:\n",
    "            tempNode = self.linkedList.head\n",
    "            if self.linkedList.head == self.linkedList.tail:\n",
    "                self.linkedList.head = None\n",
    "                self.linkedList.tail = None\n",
    "            else:\n",
    "                self.linkedList.head = self.linkedList.head.next\n",
    "            return tempNode\n",
    "    \n",
    "    def peek(self):\n",
    "        if self.isEmpty():\n",
    "            return \"There is not any node in the Queue\"\n",
    "        else:\n",
    "            return self.linkedList.head\n",
    "    \n",
    "    def delete(self):\n",
    "        self.linkedList.head = None\n",
    "        self.linkedList.tail = None"
   ]
  },
  {
   "cell_type": "code",
   "execution_count": 288,
   "id": "01450411-55f9-4a25-8219-cf8ad43445fa",
   "metadata": {},
   "outputs": [],
   "source": [
    "# Post Order Traversal is implemented is Queue Data Structure\n",
    "def levelOrderTraversal(rootNode):\n",
    "    if not rootNode:\n",
    "        return\n",
    "    # Initialize queue\n",
    "    queue = Queue()\n",
    "    queue.enqueue(rootNode)\n",
    "    while not(queue.isEmpty()):\n",
    "        root = queue.dequeue()\n",
    "        print(root.value.data)\n",
    "        if root.value.leftChild is not None:\n",
    "            queue.enqueue(root.value.leftChild)\n",
    "        if root.value.rightChild is not None:\n",
    "            queue.enqueue(root.value.rightChild)"
   ]
  },
  {
   "cell_type": "code",
   "execution_count": 289,
   "id": "495ce3a1-008a-4c5e-bc8f-f08717f91d87",
   "metadata": {},
   "outputs": [],
   "source": [
    "def searchBT(rootNode, nodeValue):\n",
    "    if not rootNode:\n",
    "        return \"The Binary tree is empty\"\n",
    "    else:\n",
    "        queue = Queue()\n",
    "        queue.enqueue(rootNode)\n",
    "        while not(queue.isEmpty()):\n",
    "            root = queue.dequeue()\n",
    "            if root.value.data == nodeValue:\n",
    "                return \"The node value was found in the binary tree\"\n",
    "                break\n",
    "            if root.value.leftChild is not None:\n",
    "                queue.enqueue(root.value.leftChild)\n",
    "            if root.value.rightChild is not None:\n",
    "                queue.enqueue(root.value.rightChild)\n",
    "    return \"The node value was not found in the binary tree\""
   ]
  },
  {
   "cell_type": "code",
   "execution_count": 290,
   "id": "001b6887-d5ac-452e-acc4-dddd82b261ba",
   "metadata": {},
   "outputs": [],
   "source": [
    "def insertNodeBT(rootNode, newNode):\n",
    "    if not rootNode:\n",
    "        rootNode = newNode\n",
    "    else:\n",
    "        queue = Queue()\n",
    "        queue.enqueue(rootNode)\n",
    "        while not(queue.isEmpty()):\n",
    "            root = queue.dequeue()\n",
    "            if root.value.leftChild is not None:\n",
    "                queue.enqueue(root.value.leftChild)\n",
    "            else:\n",
    "                root.value.leftChild = newNode\n",
    "                return \"Successfully inserted\"\n",
    "            if root.value.rightChild is not None:\n",
    "                queue.enqueue(root.value.rightChild)\n",
    "            else:\n",
    "                root.value.rightChild = newNode\n",
    "                return \"Successfully inserted\"\n",
    "        "
   ]
  },
  {
   "cell_type": "markdown",
   "id": "843f5dda-3f2a-4c6b-aec1-0ef774d044cd",
   "metadata": {},
   "source": [
    "Method to delete a node from Binary Tree:\n",
    "\n",
    "a) As the nodes are dependent on the parent node, we can't just delete the node\n",
    "\n",
    "b) Find the deepest node first\n",
    "\n",
    "c) Delete the deepest node\n",
    "\n",
    "d) Replace the node to be deleted with deepest node"
   ]
  },
  {
   "cell_type": "code",
   "execution_count": 291,
   "id": "2cff94da-98a3-4d6b-8b5b-3e14c47cbea7",
   "metadata": {},
   "outputs": [],
   "source": [
    "# Method to find the deepest node, just traverse all the nodes, the last node would be deepest node\n",
    "def getDeepestNode(rootNode):\n",
    "    if not rootNode:\n",
    "        return\n",
    "    else:\n",
    "        queue = Queue()\n",
    "        queue.enqueue(rootNode)\n",
    "        while not(queue.isEmpty()):\n",
    "            root = queue.dequeue()\n",
    "            if root.value.leftChild is not None:\n",
    "                queue.enqueue(root.value.leftChild)\n",
    "            if root.value.rightChild is not None:\n",
    "                queue.enqueue(root.value.rightChild)\n",
    "        deepest_node = root.value\n",
    "        return deepest_node"
   ]
  },
  {
   "cell_type": "code",
   "execution_count": 292,
   "id": "6581fe48-be98-4703-a0e6-348160fc515d",
   "metadata": {},
   "outputs": [],
   "source": [
    "# Method to delete the deepest node\n",
    "## Just find the deepest node and set it to None\n",
    "def deleteDeepestNode(rootNode, dNode):\n",
    "    if not rootNode:\n",
    "        return\n",
    "    else:\n",
    "        queue = Queue()\n",
    "        queue.enqueue(rootNode)\n",
    "        while not(queue.isEmpty()):\n",
    "            root = queue.dequeue()\n",
    "            if root.value is dNode:\n",
    "                root.value = None\n",
    "                return\n",
    "            if root.value.rightChild is not None:\n",
    "                if root.value.rightChild is dNode:\n",
    "                    root.value.rightChild = None\n",
    "                    return \n",
    "                else:\n",
    "                    queue.enqueue(root.value.rightChild)\n",
    "            if root.value.leftChild is not None:\n",
    "                if root.value.leftChild is dNode:\n",
    "                    root.value.leftChild = None\n",
    "                    return \n",
    "                else:\n",
    "                    queue.enqueue(root.value.leftChild)"
   ]
  },
  {
   "cell_type": "code",
   "execution_count": 293,
   "id": "e8e77e23-16e5-45a4-bbf1-017d2de98114",
   "metadata": {},
   "outputs": [],
   "source": [
    "# Method to delete the node from the Binary Tree\n",
    "## node would be given and that node would have to be deleted\n",
    "def deleteNode(rootNode, node):\n",
    "    if not rootNode:\n",
    "        return \"The Binary Tree is empty\"\n",
    "    else:\n",
    "        queue = Queue()\n",
    "        queue.enqueue(rootNode)\n",
    "        while not(queue.isEmpty()):\n",
    "            root = queue.dequeue()\n",
    "            if root.value.data == node:\n",
    "                # Find the deepest node\n",
    "                deepest_node = getDeepestNode(rootNode)\n",
    "                # Set the root value data to the deepest node data\n",
    "                root.value.data = deepest_node.data\n",
    "                # Delete the deepest node\n",
    "                deleteDeepestNode(rootNode, deepest_node)\n",
    "                return \"The node has been successfully deleted\"\n",
    "            if root.value.leftChild is not None:\n",
    "                queue.enqueue(root.value.leftChild)\n",
    "            if root.value.rightChild is not None:\n",
    "                queue.enqueue(root.value.rightChild)\n",
    "        return \"The node could not be found in the Binary Tree\""
   ]
  },
  {
   "cell_type": "code",
   "execution_count": 294,
   "id": "6e867d3e-1ba4-4621-87f9-49ab0722782b",
   "metadata": {},
   "outputs": [],
   "source": [
    "# Method to delete the whole binary tree\n",
    "def deleteBT(rootNode):\n",
    "    rootNode.data = None\n",
    "    rootNode.leftChild = None\n",
    "    rootNode.rightChild = None\n",
    "    return \"The Binary tree was successfully deleted\""
   ]
  },
  {
   "cell_type": "code",
   "execution_count": 295,
   "id": "2de75505-20e2-49d0-9965-9076134eec0d",
   "metadata": {},
   "outputs": [
    {
     "name": "stdout",
     "output_type": "stream",
     "text": [
      "Drinks\n",
      "Hot\n",
      "Tea\n",
      "Coffee\n",
      "Cold\n"
     ]
    }
   ],
   "source": [
    "preOrderTraversal(bt)"
   ]
  },
  {
   "cell_type": "code",
   "execution_count": 296,
   "id": "8fa15b54-e709-4270-97e9-653c38c8a6c2",
   "metadata": {},
   "outputs": [
    {
     "name": "stdout",
     "output_type": "stream",
     "text": [
      "Tea\n",
      "Hot\n",
      "Coffee\n",
      "Drinks\n",
      "Cold\n"
     ]
    }
   ],
   "source": [
    "inOrderTraversal(bt)"
   ]
  },
  {
   "cell_type": "code",
   "execution_count": 297,
   "id": "aec5da7f-f2ef-40a4-9e3b-015ec7d4c1b7",
   "metadata": {},
   "outputs": [
    {
     "name": "stdout",
     "output_type": "stream",
     "text": [
      "Tea\n",
      "Coffee\n",
      "Hot\n",
      "Cold\n",
      "Drinks\n"
     ]
    }
   ],
   "source": [
    "postOrderTraversal(bt)"
   ]
  },
  {
   "cell_type": "code",
   "execution_count": 298,
   "id": "e37993b8-990e-4c9e-a4a3-4e9c6b139e2a",
   "metadata": {},
   "outputs": [
    {
     "name": "stdout",
     "output_type": "stream",
     "text": [
      "Drinks\n",
      "Hot\n",
      "Cold\n",
      "Tea\n",
      "Coffee\n"
     ]
    }
   ],
   "source": [
    "levelOrderTraversal(bt)"
   ]
  },
  {
   "cell_type": "code",
   "execution_count": 299,
   "id": "68b9ca9a-f550-44d4-b6f1-ab8ecbfc98dc",
   "metadata": {},
   "outputs": [
    {
     "data": {
      "text/plain": [
       "'The node value was not found in the binary tree'"
      ]
     },
     "execution_count": 299,
     "metadata": {},
     "output_type": "execute_result"
    }
   ],
   "source": [
    "searchBT(bt, \"Teas\")"
   ]
  },
  {
   "cell_type": "code",
   "execution_count": 300,
   "id": "a9c69e29-4e83-49b7-890f-8b519c9b6513",
   "metadata": {},
   "outputs": [],
   "source": [
    "cola = TreeNode(\"Cola\")"
   ]
  },
  {
   "cell_type": "code",
   "execution_count": 301,
   "id": "ef2bc35e-f5af-4809-b24d-34ce3e09a6ce",
   "metadata": {},
   "outputs": [
    {
     "data": {
      "text/plain": [
       "'Successfully inserted'"
      ]
     },
     "execution_count": 301,
     "metadata": {},
     "output_type": "execute_result"
    }
   ],
   "source": [
    "insertNodeBT(bt, cola)"
   ]
  },
  {
   "cell_type": "code",
   "execution_count": 302,
   "id": "8db179e6-a4d4-4cdd-b53f-1452f0b440d2",
   "metadata": {},
   "outputs": [
    {
     "name": "stdout",
     "output_type": "stream",
     "text": [
      "Drinks\n",
      "Hot\n",
      "Cold\n",
      "Tea\n",
      "Coffee\n",
      "Cola\n"
     ]
    }
   ],
   "source": [
    "levelOrderTraversal(bt)"
   ]
  },
  {
   "cell_type": "code",
   "execution_count": 303,
   "id": "bdef831f-4722-44bf-a384-72bf69256096",
   "metadata": {},
   "outputs": [
    {
     "name": "stdout",
     "output_type": "stream",
     "text": [
      "Cola\n"
     ]
    }
   ],
   "source": [
    "deepest_node = getDeepestNode(bt)\n",
    "print(deepest_node)"
   ]
  },
  {
   "cell_type": "code",
   "execution_count": 304,
   "id": "be302e0f-a26b-468d-b35e-4be988c13999",
   "metadata": {},
   "outputs": [],
   "source": [
    "deleteDeepestNode(bt, deepest_node)"
   ]
  },
  {
   "cell_type": "code",
   "execution_count": 305,
   "id": "a3ed7566-01e5-458b-a9c8-2899102168a8",
   "metadata": {},
   "outputs": [
    {
     "name": "stdout",
     "output_type": "stream",
     "text": [
      "Drinks\n",
      "Hot\n",
      "Cold\n",
      "Tea\n",
      "Coffee\n"
     ]
    }
   ],
   "source": [
    "levelOrderTraversal(bt)"
   ]
  },
  {
   "cell_type": "code",
   "execution_count": 306,
   "id": "934c452f-4082-4375-9756-ee2b07455427",
   "metadata": {},
   "outputs": [
    {
     "data": {
      "text/plain": [
       "'The node has been successfully deleted'"
      ]
     },
     "execution_count": 306,
     "metadata": {},
     "output_type": "execute_result"
    }
   ],
   "source": [
    "deleteNode(bt, \"Tea\")"
   ]
  },
  {
   "cell_type": "code",
   "execution_count": 307,
   "id": "70cb47b5-3e58-43cf-8409-9ee5cbd1ca6e",
   "metadata": {},
   "outputs": [
    {
     "name": "stdout",
     "output_type": "stream",
     "text": [
      "Drinks\n",
      "Hot\n",
      "Cold\n",
      "Coffee\n"
     ]
    }
   ],
   "source": [
    "levelOrderTraversal(bt)"
   ]
  },
  {
   "cell_type": "code",
   "execution_count": 308,
   "id": "67cfca5e-a32a-4e16-843d-18ccc4f9d7d7",
   "metadata": {},
   "outputs": [
    {
     "data": {
      "text/plain": [
       "'The Binary tree was successfully deleted'"
      ]
     },
     "execution_count": 308,
     "metadata": {},
     "output_type": "execute_result"
    }
   ],
   "source": [
    "deleteBT(bt)"
   ]
  },
  {
   "cell_type": "code",
   "execution_count": 309,
   "id": "3a1b9ab4-3545-4a26-a2b5-7248bd3eb698",
   "metadata": {},
   "outputs": [
    {
     "name": "stdout",
     "output_type": "stream",
     "text": [
      "None\n"
     ]
    }
   ],
   "source": [
    "levelOrderTraversal(bt)"
   ]
  }
 ],
 "metadata": {
  "kernelspec": {
   "display_name": "Python 3 (ipykernel)",
   "language": "python",
   "name": "python3"
  },
  "language_info": {
   "codemirror_mode": {
    "name": "ipython",
    "version": 3
   },
   "file_extension": ".py",
   "mimetype": "text/x-python",
   "name": "python",
   "nbconvert_exporter": "python",
   "pygments_lexer": "ipython3",
   "version": "3.11.7"
  }
 },
 "nbformat": 4,
 "nbformat_minor": 5
}
